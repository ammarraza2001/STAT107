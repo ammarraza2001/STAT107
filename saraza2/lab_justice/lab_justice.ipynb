{
 "cells": [
  {
   "cell_type": "markdown",
   "metadata": {},
   "source": [
    "# Lab: Justice ⚖️\n",
    "\n",
    "We plan on continuing to explore simulation in Python this week, however, this time, we're going to simulate some real-world events that have actually happened in the past.  The goal is for you to see how we can use data science to think about issues of equity and social justice.  As usual, in addition to coding, we want you to get practice having discussions about the data science you're doing and think about how data science can be a useful tool that can help you in your future job and as a citizen.\n",
    "\n",
    "**THIS LAB IS DIFFERENT**: We are looking at social issues in this lab, it's *very* important that you read through the text carefully. Understanding the context is crucial for success in lab_justice :)\n",
    "\n",
    "Let’s get started!\n",
    "\n",
    "## Group\n",
    "Edit the next Python cell to add information about who you're working within your lab section."
   ]
  },
  {
   "cell_type": "code",
   "execution_count": null,
   "metadata": {},
   "outputs": [],
   "source": [
    "# 1st, write down the names of your TAs and CAs\n",
    "ta_name = \"\"\n",
    "ca1_name = \"\"\n",
    "ca2_name = \"\"\n",
    "\n",
    "# Also, make sure to meet your team for this lab! Find out their name, what major they're in,\n",
    "# and learn something new about them that you never knew before!\n",
    "#\n",
    "# QOTD: Favorite Music Artist\n",
    "partner1_name = \"\"\n",
    "partner1_netid = \"\"\n",
    "partner1_fav_artist = \"Lil Baby\"\n",
    "\n",
    "partner2_name = \"\"\n",
    "partner2_netid = \"\"\n",
    "partner2_fav_artist = \"J. Cole\"\n",
    "\n",
    "partner3_name = \"\"\n",
    "partner3_netid = \"\"\n",
    "partner3_fav_artist = \"\""
   ]
  },
  {
   "cell_type": "markdown",
   "metadata": {},
   "source": [
    "<hr style=\"color: #DD3403;\">"
   ]
  },
  {
   "cell_type": "markdown",
   "metadata": {},
   "source": [
    "# Puzzle 1: Jury Selection and Simulation\n",
    "\n",
    "The 6th Amendment to the U.S. Constitution provides the right to an “impartial jury” in criminal prosecutions, but what exactly does this mean? The Supreme Court has said that juries must be drawn from a representative cross-section of the community. In other words, juries should be randomly selected from the eligible population. However, there are many instances in history where it doesn’t seem like this was the case.\n",
    "\n",
    "Take for example, the case of Berghuis v. Smith.  In 1993, Smith (A Black man) was convicted of 2nd-degree murder by an all-white jury and sentenced to life in prison. The jury was selected from a panel of about 100 randomly selected people. Only 3 of them were Black and none of those 3 made it into the final 37 considered for Smith’s trial. The county population was approximately 8 percent Black at the time of the trial.  Remember, jury panels are supposed to be selected at random from the eligible population.\n",
    "\n",
    "## Puzzle 1.1: Your Initial Thoughts\n",
    "❓ **Group Discussion Question** ❓ Because 8% of the eligible population was Black, 3 Black people on a panel of 100 might seem low.  Does this difference (8% vs. 3%) seem big to you? Do you think this could be due to chance?\n",
    "\n",
    "*This difference does seem big but I think that there is a possibility of chance when it comes to 8 vs 3 people on a panel*\n",
    "\n",
    "❓ **Individual Reflection Question** ❓  Write a few sentences summarizing what your group members said during your discussion.  Did people think this difference could have been due to chance or not?"
   ]
  },
  {
   "cell_type": "markdown",
   "metadata": {},
   "source": [
    "*Our group thought that even though the difference of 8 vs 3 is big, especially in something as important as a trial, we did feel that this could be up to chance. However, as majority of us do not know how jury selection works, maybe our final opinions are wrong and there may have been some inherent bias during the selection.*"
   ]
  },
  {
   "cell_type": "markdown",
   "metadata": {},
   "source": [
    "This case was appealed and sent to the Supreme Court.  Some people claimed that the overall percentage disparity (Between 8% and 3%) was small and reflected no attempt to include or exclude a specified number of Black people from the jury.\" They claimed this \"small\" difference could simply be due to chance.  Critics and Smith claimed that the system of jury selection caused the lack of fair and reasonable representation of black people on the jury.\n",
    "\n",
    "## Puzzle 1.2: Writing a Function\n",
    "\n",
    "Let’s do a simulation in Python to understand what’s going on.  Write a simulation to show the expected distribution.  Remember, from the case: we're trying to see if the difference between 8% and 3% is small and reflects \"no attempt to include or exclude a specified number of African Americans.\"  In other words, **we want to write a function to randomly sample 100 people from a population that has 8% Black people.**  The function should return the number of Black people in each jury.  We can do this multiple times and see how rare it is to get 3 or fewer people in the jury. Write your function below and then we will do the simulation in Puzzle 1.3."
   ]
  },
  {
   "cell_type": "code",
   "execution_count": 1,
   "metadata": {},
   "outputs": [],
   "source": [
    "## Import any libraries you may need\n",
    "import pandas as pd\n",
    "import random"
   ]
  },
  {
   "cell_type": "code",
   "execution_count": 18,
   "metadata": {},
   "outputs": [],
   "source": [
    "## Write your function to simulate selecting a jury panel of size 100 from a population\n",
    "## with 8% Black people that counts the number of Black people selected\n",
    "\n",
    "def simulateJuryPanel():\n",
    "  count = 0\n",
    "  for i in range(100):\n",
    "    rand_person = random.randint(1, 100)\n",
    "    if rand_person <= 8:\n",
    "      count += 1\n",
    "  return count"
   ]
  },
  {
   "cell_type": "markdown",
   "metadata": {},
   "source": [
    "## Puzzle 1.3: Storing the Results in a Data Frame\n",
    "\n",
    "Store the results in a DataFrame so we can analyze this.  Let’s start by doing this simulation 100 times.  In other words, we're simulating picking 100 juries.  Store the results in a DataFrame called `df`. \n",
    "\n",
    "**Simulate this 100 times and store the results in a DataFrame. The variable or column in the DataFrame should be named `panel`**"
   ]
  },
  {
   "cell_type": "code",
   "execution_count": 19,
   "metadata": {},
   "outputs": [
    {
     "data": {
      "text/html": [
       "<div>\n",
       "<style scoped>\n",
       "    .dataframe tbody tr th:only-of-type {\n",
       "        vertical-align: middle;\n",
       "    }\n",
       "\n",
       "    .dataframe tbody tr th {\n",
       "        vertical-align: top;\n",
       "    }\n",
       "\n",
       "    .dataframe thead th {\n",
       "        text-align: right;\n",
       "    }\n",
       "</style>\n",
       "<table border=\"1\" class=\"dataframe\">\n",
       "  <thead>\n",
       "    <tr style=\"text-align: right;\">\n",
       "      <th></th>\n",
       "      <th>panel</th>\n",
       "    </tr>\n",
       "  </thead>\n",
       "  <tbody>\n",
       "    <tr>\n",
       "      <th>0</th>\n",
       "      <td>7</td>\n",
       "    </tr>\n",
       "    <tr>\n",
       "      <th>1</th>\n",
       "      <td>9</td>\n",
       "    </tr>\n",
       "    <tr>\n",
       "      <th>2</th>\n",
       "      <td>7</td>\n",
       "    </tr>\n",
       "    <tr>\n",
       "      <th>3</th>\n",
       "      <td>5</td>\n",
       "    </tr>\n",
       "    <tr>\n",
       "      <th>4</th>\n",
       "      <td>3</td>\n",
       "    </tr>\n",
       "    <tr>\n",
       "      <th>...</th>\n",
       "      <td>...</td>\n",
       "    </tr>\n",
       "    <tr>\n",
       "      <th>95</th>\n",
       "      <td>10</td>\n",
       "    </tr>\n",
       "    <tr>\n",
       "      <th>96</th>\n",
       "      <td>7</td>\n",
       "    </tr>\n",
       "    <tr>\n",
       "      <th>97</th>\n",
       "      <td>13</td>\n",
       "    </tr>\n",
       "    <tr>\n",
       "      <th>98</th>\n",
       "      <td>6</td>\n",
       "    </tr>\n",
       "    <tr>\n",
       "      <th>99</th>\n",
       "      <td>5</td>\n",
       "    </tr>\n",
       "  </tbody>\n",
       "</table>\n",
       "<p>100 rows × 1 columns</p>\n",
       "</div>"
      ],
      "text/plain": [
       "    panel\n",
       "0       7\n",
       "1       9\n",
       "2       7\n",
       "3       5\n",
       "4       3\n",
       "..    ...\n",
       "95     10\n",
       "96      7\n",
       "97     13\n",
       "98      6\n",
       "99      5\n",
       "\n",
       "[100 rows x 1 columns]"
      ]
     },
     "execution_count": 19,
     "metadata": {},
     "output_type": "execute_result"
    }
   ],
   "source": [
    "## Write your simulation here\n",
    "data = []\n",
    "for i in range(100):\n",
    "    d = {'panel' : simulateJuryPanel()}\n",
    "    data.append(d)\n",
    "df = pd.DataFrame(data)\n",
    "df"
   ]
  },
  {
   "cell_type": "code",
   "execution_count": 20,
   "metadata": {},
   "outputs": [
    {
     "name": "stdout",
     "output_type": "stream",
     "text": [
      "🎉 All tests passed! 🎉\n"
     ]
    }
   ],
   "source": [
    "## == TEST CASES for Puzzle 1.3 ==\n",
    "# - This read-only cell contains test cases for your previous cell.\n",
    "# - If this cell runs with the success message as your output, you PASSED all test cases!\n",
    "# - If this cell results in any errors, check your previous cell, make changes, and RE-RUN your code and then this cell.\n",
    "\n",
    "assert(len(df) == 100), \"You need to apply your function to your DataFrame\"\n",
    "assert((df[\"panel\"].mean() >5) & (df[\"panel\"].mean() <10)), \"You may not have properly defined your simulation\"\n",
    "\n",
    "## == SUCCESS MESSAGE ==\n",
    "# You'll only see this message (With the emoji showing) if you passed all test cases:\n",
    "tada = \"\\N{PARTY POPPER}\"\n",
    "print(f\"{tada} All tests passed! {tada}\")"
   ]
  },
  {
   "cell_type": "markdown",
   "metadata": {},
   "source": [
    "## Puzzle 1.4: Create a histogram of your results\n",
    "\n",
    "Create a histogram of the results."
   ]
  },
  {
   "cell_type": "code",
   "execution_count": 21,
   "metadata": {},
   "outputs": [
    {
     "data": {
      "text/plain": [
       "array([[<AxesSubplot: title={'center': 'panel'}>]], dtype=object)"
      ]
     },
     "execution_count": 21,
     "metadata": {},
     "output_type": "execute_result"
    },
    {
     "data": {
      "image/png": "[encoded data removed]",
      "text/plain": [
       "<Figure size 640x480 with 1 Axes>"
      ]
     },
     "metadata": {},
     "output_type": "display_data"
    }
   ],
   "source": [
    "## Create your histogram here\n",
    "df.hist()"
   ]
  },
  {
   "cell_type": "markdown",
   "metadata": {},
   "source": [
    "## Puzzle 1.5: Reflection\n",
    "\n",
    "❓ **Group Discussion Question** ❓ Interpret the results of your histogram. How does your histogram provide evidence for or against the claim that the jury wasn't fair?  What does this tell us about this case?  Do you think this could have happened by chance?  If so, why? If not, why did some people claim it did?\n",
    "\n",
    "❓ **Individual Reflection Question** ❓ Write down the most interesting part of your group discussion."
   ]
  },
  {
   "cell_type": "markdown",
   "metadata": {},
   "source": [
    "*The histogram provides evidence for the claim that the jury was not fait. The histogram tells us that for majority of the trials run, the jury selection consisted of between 5-10 black people and less than 5 simulations had less than four black people on the panel. I do not think this could have happened by chance. I feel some people, including us, claimed it happened by chance because the difference wasn't that huge (8 vs 3) so it didn't seem like there was any foul play*"
   ]
  },
  {
   "cell_type": "markdown",
   "metadata": {},
   "source": [
    "## Puzzle 1.6: What we observed vs. what we expected!\n",
    "\n",
    "❓ **Individual Reflection Question** ❓ What was the expected value for the number of Black people in the jury?  Enter your answer below.  "
   ]
  },
  {
   "cell_type": "markdown",
   "metadata": {},
   "source": [
    "*(✏️ Edit this cell to replace this text with your $EV$. ✏️)*\n",
    "\n",
    "EV = 8"
   ]
  },
  {
   "cell_type": "markdown",
   "metadata": {},
   "source": [
    "Next, calculate the mean of the DataFrame that you created from the simulation."
   ]
  },
  {
   "cell_type": "code",
   "execution_count": 22,
   "metadata": {},
   "outputs": [
    {
     "data": {
      "text/plain": [
       "7.91"
      ]
     },
     "execution_count": 22,
     "metadata": {},
     "output_type": "execute_result"
    }
   ],
   "source": [
    "## Calculate the average number of Black people in the jury\n",
    "\n",
    "mean = df['panel'].mean()\n",
    "mean"
   ]
  },
  {
   "cell_type": "code",
   "execution_count": 23,
   "metadata": {},
   "outputs": [
    {
     "name": "stdout",
     "output_type": "stream",
     "text": [
      "🎉 All tests passed! 🎉\n"
     ]
    }
   ],
   "source": [
    "## == TEST CASES for Puzzle 1.6 ==\n",
    "# - This read-only cell contains test cases for your previous cell.\n",
    "# - If this cell runs with the success message as your output, you PASSED all test cases!\n",
    "# - If this cell results in any errors, check your previous cell, make changes, and RE-RUN your code and then this cell.\n",
    "\n",
    "assert(mean < 10), \"You didn't calculate the mean correctly!\"\n",
    "assert(mean > 5), \"You didn't calculate the mean correctly!\"\n",
    "\n",
    "## == SUCCESS MESSAGE ==\n",
    "# You'll only see this message (With the emoji showing) if you passed all test cases:\n",
    "tada = \"\\N{PARTY POPPER}\"\n",
    "print(f\"{tada} All tests passed! {tada}\")"
   ]
  },
  {
   "cell_type": "markdown",
   "metadata": {},
   "source": [
    "## Puzzle 1.7: Simulating the Event AGAIN!\n",
    "\n",
    "Run the simulation again, but this time for 10,000 people. Store this data in a DataFrame called `df2` and create a histogram of your results (You can copy and paste your previous code, no need to do everything again from scratch!).\n",
    "\n",
    "#### Part 1:"
   ]
  },
  {
   "cell_type": "code",
   "execution_count": 24,
   "metadata": {},
   "outputs": [
    {
     "data": {
      "text/plain": [
       "array([[<AxesSubplot: title={'center': 'panel'}>]], dtype=object)"
      ]
     },
     "execution_count": 24,
     "metadata": {},
     "output_type": "execute_result"
    },
    {
     "data": {
      "image/png": "[encoded data removed]",
      "text/plain": [
       "<Figure size 640x480 with 1 Axes>"
      ]
     },
     "metadata": {},
     "output_type": "display_data"
    }
   ],
   "source": [
    "## Run the same simulation 10,000 times\n",
    "data = []\n",
    "for i in range(10000):\n",
    "    d = {'panel' : simulateJuryPanel()}\n",
    "    data.append(d)\n",
    "df2 = pd.DataFrame(data)\n",
    "\n",
    "## Create your histogram here\n",
    "df2.hist()"
   ]
  },
  {
   "cell_type": "code",
   "execution_count": 25,
   "metadata": {},
   "outputs": [
    {
     "name": "stdout",
     "output_type": "stream",
     "text": [
      "🎉 All tests passed! 🎉\n"
     ]
    }
   ],
   "source": [
    "## == TEST CASES for Puzzle 1.7 Part 1 ==\n",
    "# - This read-only cell contains test cases for your previous cell.\n",
    "# - If this cell runs with the success message as your output, you PASSED all test cases!\n",
    "# - If this cell results in any errors, check your previous cell, make changes, and RE-RUN your code and then this cell.\n",
    "\n",
    "assert(len(df2) == 10000), \"Make sure you do 10,000 simulations.\"\n",
    "\n",
    "## == SUCCESS MESSAGE ==\n",
    "# You'll only see this message (With the emoji showing) if you passed all test cases:\n",
    "tada = \"\\N{PARTY POPPER}\"\n",
    "print(f\"{tada} All tests passed! {tada}\")"
   ]
  },
  {
   "cell_type": "markdown",
   "metadata": {},
   "source": [
    "#### Part 2:\n",
    "\n",
    "Find the mean number of Black people on the randomly selected juries."
   ]
  },
  {
   "cell_type": "code",
   "execution_count": 28,
   "metadata": {},
   "outputs": [
    {
     "data": {
      "text/plain": [
       "8.0096"
      ]
     },
     "execution_count": 28,
     "metadata": {},
     "output_type": "execute_result"
    }
   ],
   "source": [
    "## Find the mean below\n",
    "\n",
    "mean2 = df2['panel'].mean()\n",
    "mean2"
   ]
  },
  {
   "cell_type": "code",
   "execution_count": 29,
   "metadata": {},
   "outputs": [
    {
     "name": "stdout",
     "output_type": "stream",
     "text": [
      "🎉 All tests passed! 🎉\n"
     ]
    }
   ],
   "source": [
    "## == TEST CASES for Puzzle 1.7 Part 2 ==\n",
    "# - This read-only cell contains test cases for your previous cell.\n",
    "# - If this cell runs with the success message as your output, you PASSED all test cases!\n",
    "# - If this cell results in any errors, check your previous cell, make changes, and RE-RUN your code and then this cell.\n",
    "\n",
    "assert(mean2 < 8.5), \"You didn't calculate the mean correctly!\"\n",
    "assert(mean2 > 7.5), \"You didn't calculate the mean correctly!\"\n",
    "\n",
    "## == SUCCESS MESSAGE ==\n",
    "# You'll only see this message (With the emoji showing) if you passed all test cases:\n",
    "tada = \"\\N{PARTY POPPER}\"\n",
    "print(f\"{tada} All tests passed! {tada}\")"
   ]
  },
  {
   "cell_type": "markdown",
   "metadata": {},
   "source": [
    "## Puzzle 1.8: Final Reflection\n",
    "\n",
    "❓ **Individual Reflection Question** ❓ Individual Reflection: How did your results change? What does this tell us about the more simulations you run? "
   ]
  },
  {
   "cell_type": "markdown",
   "metadata": {},
   "source": [
    "*More simulations helped make the results more clearer and defined. It tells us that the more simulations you run the better and more accurate picture you get*"
   ]
  },
  {
   "cell_type": "markdown",
   "metadata": {},
   "source": [
    "❓ **Group Discussion Question** ❓ This is an example of how we can use statistics to help us solve real world problems.  Discuss with your group how simulations and data science can be used to help address issues of racism specifically.\n",
    "\n",
    "❓ **Individual Reflection Question** ❓ Give an example of a way that we can use data science to help address issues of racism.  This can be something you discussed in your group or an example you are interested in."
   ]
  },
  {
   "cell_type": "markdown",
   "metadata": {},
   "source": [
    "*We can use data science to double check surveys or research studies done by the government to make sure that there is no inherent bias in them. We can also use data science in artificial intelligence to make sure that the data the AI is learning on is not biased*"
   ]
  },
  {
   "cell_type": "markdown",
   "metadata": {},
   "source": [
    "## Puzzle 1.9: Probability\n",
    "\n",
    "Lastly, find the probability that we'll get 3 or less Black men on the jury using `df2`.  You may want to think back to conditionals - that'll help here."
   ]
  },
  {
   "cell_type": "code",
   "execution_count": 30,
   "metadata": {},
   "outputs": [
    {
     "data": {
      "text/plain": [
       "0.0354"
      ]
     },
     "execution_count": 30,
     "metadata": {},
     "output_type": "execute_result"
    }
   ],
   "source": [
    "## Find the probability here\n",
    "\n",
    "probability = len(df2[df2['panel'] <= 3]) / len(df2['panel'])\n",
    "probability"
   ]
  },
  {
   "cell_type": "code",
   "execution_count": 31,
   "metadata": {},
   "outputs": [
    {
     "name": "stdout",
     "output_type": "stream",
     "text": [
      "🎉 All tests passed! 🎉\n"
     ]
    }
   ],
   "source": [
    "## == TEST CASES for Puzzle 1.9==\n",
    "# - This read-only cell contains test cases for your previous cell.\n",
    "# - If this cell runs with the success message as your output, you PASSED all test cases!\n",
    "# - If this cell results in any errors, check your previous cell, make changes, and RE-RUN your code and then this cell.\n",
    "\n",
    "assert(probability < 0.05), \"You didn't calculate the probability correctly!\"\n",
    "assert(probability > 0), \"You didn't calculate the probability correctly!\"\n",
    "\n",
    "## == SUCCESS MESSAGE ==\n",
    "# You'll only see this message (With the emoji showing) if you passed all test cases:\n",
    "tada = \"\\N{PARTY POPPER}\"\n",
    "print(f\"{tada} All tests passed! {tada}\")"
   ]
  },
  {
   "cell_type": "markdown",
   "metadata": {},
   "source": [
    "<hr style=\"color: #DD3403;\">"
   ]
  },
  {
   "cell_type": "markdown",
   "metadata": {},
   "source": [
    "# Puzzle 2: Names and Resumes + Simulation!\n",
    "\n",
    "This next simulation comes from a study looking at female names.  You can read the fully study here if you’d like (but it's not necessary): [https://www.nber.org/system/files/working_papers/w9873/w9873.pdf](https://www.nber.org/system/files/working_papers/w9873/w9873.pdf) \n",
    "\n",
    "Here’s a summary of what happened: Researchers created a standard resume and sent it out to about 500 different “Help Wanted” ads in Chicago and Boston.  The resumes that they sent were identical, except they changed the names and email addresses to have either a “white sounding” name like Emily or a “Black sounding” name like Lakisha, according to the study.  Assuming that a resume has about a 20% chance of getting a call back and half of the resumes had white sounding names and half had Black sounding names, let’s do this simulation.  We'll simulate the results and then look at what actually happened.\n",
    "\n",
    "## Puzzle 2.1: Initial Thoughts\n",
    "\n",
    "❓ **Group Discussion Question** ❓ Before we start coding, let’s think about this.  When this study was done in real life, the white sounding names had 10.33% callbacks and the Black sounding names had 6.87% callbacks.  Some of the companies claimed this difference was due to chance.  Do you think this is a significant difference? Why do you think this happened? Why or why not is this problematic?\n",
    "\n",
    "❓ **Individual Reflection Question** ❓ Write down something that surprised you from your group discussion."
   ]
  },
  {
   "cell_type": "markdown",
   "metadata": {},
   "source": [
    "*I do not think this difference was due to chance. I believe that over 3% is a significant difference and I believe this happened because of inherent racial bias amongst people even though they may not be aware of it. This is problematic because it reduces the chances of a black person getting a job for no valid reason.*\n",
    "\n",
    "*Something that surprised me from this group discussion is someone mentioned this news that Amazon was using AI to go through people's resumes and the AI had an inherent bias against black people so these results may be related to such software being used*"
   ]
  },
  {
   "cell_type": "markdown",
   "metadata": {},
   "source": [
    "Let’s do a simulation in Python to understand what’s going on.  We wrote most of the function for you below!  Since the content of the resumes are identical, we should expect to get an equal number of call backs for both types of names.  In other words, picking the callbacks should be like random sampling.  Next, we wrote a simulation to randomly sample 20% of 500 resumes 10,000 times.  Half of the 500 resumes are represented as 0s (Representing white sounding names) and half of the resumes are represented as 1s (Representing black sounding names).   "
   ]
  },
  {
   "cell_type": "markdown",
   "metadata": {},
   "source": [
    "## Puzzle 2.2: Load in the data\n",
    "\n",
    "We have a DataFrame called `resumes.csv` that contains 500 rows. Half are 0s (Representing white sounding names) and half are 1s (Representing black sounding names). Load this data into a DataFrame called `df3`."
   ]
  },
  {
   "cell_type": "code",
   "execution_count": 32,
   "metadata": {},
   "outputs": [
    {
     "data": {
      "text/html": [
       "<div>\n",
       "<style scoped>\n",
       "    .dataframe tbody tr th:only-of-type {\n",
       "        vertical-align: middle;\n",
       "    }\n",
       "\n",
       "    .dataframe tbody tr th {\n",
       "        vertical-align: top;\n",
       "    }\n",
       "\n",
       "    .dataframe thead th {\n",
       "        text-align: right;\n",
       "    }\n",
       "</style>\n",
       "<table border=\"1\" class=\"dataframe\">\n",
       "  <thead>\n",
       "    <tr style=\"text-align: right;\">\n",
       "      <th></th>\n",
       "      <th>Resumes</th>\n",
       "    </tr>\n",
       "  </thead>\n",
       "  <tbody>\n",
       "    <tr>\n",
       "      <th>0</th>\n",
       "      <td>0</td>\n",
       "    </tr>\n",
       "    <tr>\n",
       "      <th>1</th>\n",
       "      <td>0</td>\n",
       "    </tr>\n",
       "    <tr>\n",
       "      <th>2</th>\n",
       "      <td>0</td>\n",
       "    </tr>\n",
       "    <tr>\n",
       "      <th>3</th>\n",
       "      <td>0</td>\n",
       "    </tr>\n",
       "    <tr>\n",
       "      <th>4</th>\n",
       "      <td>0</td>\n",
       "    </tr>\n",
       "    <tr>\n",
       "      <th>...</th>\n",
       "      <td>...</td>\n",
       "    </tr>\n",
       "    <tr>\n",
       "      <th>495</th>\n",
       "      <td>1</td>\n",
       "    </tr>\n",
       "    <tr>\n",
       "      <th>496</th>\n",
       "      <td>1</td>\n",
       "    </tr>\n",
       "    <tr>\n",
       "      <th>497</th>\n",
       "      <td>1</td>\n",
       "    </tr>\n",
       "    <tr>\n",
       "      <th>498</th>\n",
       "      <td>1</td>\n",
       "    </tr>\n",
       "    <tr>\n",
       "      <th>499</th>\n",
       "      <td>1</td>\n",
       "    </tr>\n",
       "  </tbody>\n",
       "</table>\n",
       "<p>500 rows × 1 columns</p>\n",
       "</div>"
      ],
      "text/plain": [
       "     Resumes\n",
       "0          0\n",
       "1          0\n",
       "2          0\n",
       "3          0\n",
       "4          0\n",
       "..       ...\n",
       "495        1\n",
       "496        1\n",
       "497        1\n",
       "498        1\n",
       "499        1\n",
       "\n",
       "[500 rows x 1 columns]"
      ]
     },
     "execution_count": 32,
     "metadata": {},
     "output_type": "execute_result"
    }
   ],
   "source": [
    "## read in the data into a DataFrame called df3\n",
    "df3 = pd.read_csv(\"resumes.csv\")\n",
    "df3"
   ]
  },
  {
   "cell_type": "markdown",
   "metadata": {},
   "source": [
    "## Puzzle 2.3: Complete the function\n",
    "\n",
    "Below is a function that samples 20% of the 500 rows and counts the numbers of `1`s and `0`s. Fill in the second line of code in this function to random sample 20% of `df3` and store the results in a DataFrame called `df4`. Make sure to run the cell after filling in the code. "
   ]
  },
  {
   "cell_type": "code",
   "execution_count": 33,
   "metadata": {},
   "outputs": [],
   "source": [
    "def simulateResumes():\n",
    "    ... ## fill in the line of code that randomly samples 20% of df3 and stores the results in df4\n",
    "    df4 = df3.sample(frac=0.2)\n",
    "    black_sounding = df4[df4.Resumes == 1].count().values\n",
    "    white_sounding = df4[df4.Resumes == 0].count().values\n",
    "    return [black_sounding[0], white_sounding[0]]\n",
    "    \n",
    "SimResult = simulateResumes()"
   ]
  },
  {
   "cell_type": "code",
   "execution_count": 34,
   "metadata": {},
   "outputs": [
    {
     "name": "stdout",
     "output_type": "stream",
     "text": [
      "🎉 All tests passed! 🎉\n"
     ]
    }
   ],
   "source": [
    "## == TEST CASES for Puzzle 2.3 ==\n",
    "# - This read-only cell contains test cases for your previous cell.\n",
    "# - If this cell runs with the success message as your output, you PASSED all test cases!\n",
    "# - If this cell results in any errors, check your previous cell, make changes, and RE-RUN your code and then this cell.\n",
    "\n",
    "assert(sum(SimResult) == 100), \"Your function doesn't return the correct number of resumes.\"\n",
    "\n",
    "\n",
    "## == SUCCESS MESSAGE ==\n",
    "# You'll only see this message (With the emoji showing) if you passed all test cases:\n",
    "tada = \"\\N{PARTY POPPER}\"\n",
    "print(f\"{tada} All tests passed! {tada}\")"
   ]
  },
  {
   "cell_type": "markdown",
   "metadata": {},
   "source": [
    "## **Read This :)**\n",
    "\n",
    "Here we're simulating randomly picking 20% of the 500 resumes and doing this 10,000 times! Each time, the 20% that we sample represent the resumes that got callbacks. We're then creating a DataFrame (called `df5`) that contains the number of black sounding names and white sound names. Run the next cell to do this!"
   ]
  },
  {
   "cell_type": "code",
   "execution_count": 36,
   "metadata": {},
   "outputs": [
    {
     "data": {
      "text/html": [
       "<div>\n",
       "<style scoped>\n",
       "    .dataframe tbody tr th:only-of-type {\n",
       "        vertical-align: middle;\n",
       "    }\n",
       "\n",
       "    .dataframe tbody tr th {\n",
       "        vertical-align: top;\n",
       "    }\n",
       "\n",
       "    .dataframe thead th {\n",
       "        text-align: right;\n",
       "    }\n",
       "</style>\n",
       "<table border=\"1\" class=\"dataframe\">\n",
       "  <thead>\n",
       "    <tr style=\"text-align: right;\">\n",
       "      <th></th>\n",
       "      <th>black_sounding</th>\n",
       "      <th>white_sounding</th>\n",
       "    </tr>\n",
       "  </thead>\n",
       "  <tbody>\n",
       "    <tr>\n",
       "      <th>0</th>\n",
       "      <td>48</td>\n",
       "      <td>52</td>\n",
       "    </tr>\n",
       "    <tr>\n",
       "      <th>1</th>\n",
       "      <td>52</td>\n",
       "      <td>48</td>\n",
       "    </tr>\n",
       "    <tr>\n",
       "      <th>2</th>\n",
       "      <td>45</td>\n",
       "      <td>55</td>\n",
       "    </tr>\n",
       "    <tr>\n",
       "      <th>3</th>\n",
       "      <td>47</td>\n",
       "      <td>53</td>\n",
       "    </tr>\n",
       "    <tr>\n",
       "      <th>4</th>\n",
       "      <td>54</td>\n",
       "      <td>46</td>\n",
       "    </tr>\n",
       "    <tr>\n",
       "      <th>...</th>\n",
       "      <td>...</td>\n",
       "      <td>...</td>\n",
       "    </tr>\n",
       "    <tr>\n",
       "      <th>9995</th>\n",
       "      <td>47</td>\n",
       "      <td>53</td>\n",
       "    </tr>\n",
       "    <tr>\n",
       "      <th>9996</th>\n",
       "      <td>44</td>\n",
       "      <td>56</td>\n",
       "    </tr>\n",
       "    <tr>\n",
       "      <th>9997</th>\n",
       "      <td>51</td>\n",
       "      <td>49</td>\n",
       "    </tr>\n",
       "    <tr>\n",
       "      <th>9998</th>\n",
       "      <td>51</td>\n",
       "      <td>49</td>\n",
       "    </tr>\n",
       "    <tr>\n",
       "      <th>9999</th>\n",
       "      <td>60</td>\n",
       "      <td>40</td>\n",
       "    </tr>\n",
       "  </tbody>\n",
       "</table>\n",
       "<p>10000 rows × 2 columns</p>\n",
       "</div>"
      ],
      "text/plain": [
       "      black_sounding  white_sounding\n",
       "0                 48              52\n",
       "1                 52              48\n",
       "2                 45              55\n",
       "3                 47              53\n",
       "4                 54              46\n",
       "...              ...             ...\n",
       "9995              47              53\n",
       "9996              44              56\n",
       "9997              51              49\n",
       "9998              51              49\n",
       "9999              60              40\n",
       "\n",
       "[10000 rows x 2 columns]"
      ]
     },
     "execution_count": 36,
     "metadata": {},
     "output_type": "execute_result"
    }
   ],
   "source": [
    "data = []\n",
    "for i in range(10000):  # Simulate 10,000 times\n",
    "  result = simulateResumes()\n",
    "  data.append( { 'black_sounding': result[0], 'white_sounding': result[1]} )\n",
    "df5 = pd.DataFrame(data)\n",
    "df5"
   ]
  },
  {
   "cell_type": "markdown",
   "metadata": {},
   "source": [
    "## Puzzle 2.4: Calculating the Average Percent\n",
    "\n",
    "Calculate the average percent of resumes that got callbacks for each group of names in the simulation (These should be close to 10% for each group of names).\n",
    "\n",
    "Part 1: Calculate the average percent of resumes with black sounding names that got callbacks.  Make sure you're calculating the average **percent**, not just the average!\n",
    "\n",
    "Part 2: Calculate the average percent of resumes with white sounding names that got callbacks.  Make sure you're calculating the average **percent**, not just the average!"
   ]
  },
  {
   "cell_type": "code",
   "execution_count": 39,
   "metadata": {},
   "outputs": [
    {
     "data": {
      "text/plain": [
       "0.10018139999999999"
      ]
     },
     "execution_count": 39,
     "metadata": {},
     "output_type": "execute_result"
    }
   ],
   "source": [
    "## Part 1- Average Percent for black sounding names (Out of 500)\n",
    "\n",
    "average_percent1 = df5['black_sounding'].mean() / (500)\n",
    "\n",
    "average_percent1"
   ]
  },
  {
   "cell_type": "code",
   "execution_count": 40,
   "metadata": {},
   "outputs": [
    {
     "name": "stdout",
     "output_type": "stream",
     "text": [
      "🎉 All tests passed! 🎉\n"
     ]
    }
   ],
   "source": [
    "## == TEST CASES for Puzzle 2.4 Part 1==\n",
    "# - This read-only cell contains test cases for your previous cell.\n",
    "# - If this cell runs with the success message as your output, you PASSED all test cases!\n",
    "# - If this cell results in any errors, check your previous cell, make changes, and RE-RUN your code and then this cell.\n",
    "\n",
    "assert(average_percent1 < 0.11), \"You didn't calculate the probability correctly!\"\n",
    "assert(average_percent1 > 0.085), \"You didn't calculate the probability correctly!\"\n",
    "\n",
    "## == SUCCESS MESSAGE ==\n",
    "# You'll only see this message (With the emoji showing) if you passed all test cases:\n",
    "tada = \"\\N{PARTY POPPER}\"\n",
    "print(f\"{tada} All tests passed! {tada}\")"
   ]
  },
  {
   "cell_type": "code",
   "execution_count": 41,
   "metadata": {},
   "outputs": [
    {
     "data": {
      "text/plain": [
       "0.09981860000000001"
      ]
     },
     "execution_count": 41,
     "metadata": {},
     "output_type": "execute_result"
    }
   ],
   "source": [
    "## Part 1- Average Percent for white sounding names (Out of 500)\n",
    "\n",
    "average_percent2 = df5['white_sounding'].mean() / 500\n",
    "\n",
    "average_percent2"
   ]
  },
  {
   "cell_type": "code",
   "execution_count": 42,
   "metadata": {},
   "outputs": [
    {
     "name": "stdout",
     "output_type": "stream",
     "text": [
      "🎉 All tests passed! 🎉\n"
     ]
    }
   ],
   "source": [
    "## == TEST CASES for Puzzle 2.4 Part 2==\n",
    "# - This read-only cell contains test cases for your previous cell.\n",
    "# - If this cell runs with the success message as your output, you PASSED all test cases!\n",
    "# - If this cell results in any errors, check your previous cell, make changes, and RE-RUN your code and then this cell.\n",
    "\n",
    "assert(average_percent2 < 0.11), \"You didn't calculate the probability correctly!\"\n",
    "assert(average_percent2 > 0.085), \"You didn't calculate the probability correctly!\"\n",
    "\n",
    "## == SUCCESS MESSAGE ==\n",
    "# You'll only see this message (With the emoji showing) if you passed all test cases:\n",
    "tada = \"\\N{PARTY POPPER}\"\n",
    "print(f\"{tada} All tests passed! {tada}\")"
   ]
  },
  {
   "cell_type": "markdown",
   "metadata": {},
   "source": [
    "## Puzzle 2.5: ❓ **Individual Reflection Question** ❓\n",
    "\n",
    "Think about how these percentages compare to the actual percentages (10.33% vs. 6.87%).  What does this say about discrimination based on your name?"
   ]
  },
  {
   "cell_type": "markdown",
   "metadata": {},
   "source": [
    "*This shows that people may have an inherent bias while looking over resumes and by just reading the name they may give a resume less worth even if that person has more substantial qualifications*"
   ]
  },
  {
   "cell_type": "markdown",
   "metadata": {},
   "source": [
    "<hr style=\"color: #DD3403;\">"
   ]
  },
  {
   "cell_type": "markdown",
   "metadata": {},
   "source": [
    "## Puzzle 3: Beyond STAT107\n",
    "\n",
    "❓ **Group Discussion Question** ❓ The Smith trial happened in 1993 and the name study occurred in the early 2000s.  Discuss with your group whether or not you think similar events still occur today and why. Reflect on how data science can be used to educate people about this.\n",
    "\n",
    "*We believe that similar events occur because people tend to have inherent biases which they are not usually aware about and when pointed out they do not think their bias influenced the decision because they themselves are not aware about it. Using data science, we can educate people about their inherent biases by showing them factual data that goes against what they believe was the reality.*\n",
    "\n",
    "❓ **Individual Reflection Question** ❓ Think about your takeaways from doing these simulations in this lab.  Choose 1 of the following prompts to write a paragraph style response (5+ sentences) explaining what the simulation showed in either Puzzle 1 or Puzzle 2. \n",
    "\n",
    "**Option 1**: Puzzle 1- Pretend that you're a defense attorney and a data scientist. Write a memo to the Supreme Court positioning yourself as a data scientist arguing whether or not your think the jury with 3 Black men was randomly selected. Justify your decision and include guidelines for the future.\n",
    "\n",
    "**Option 2**: Puzzle 2- Pretend that you're a data scientist arguing whether or not there was discrimination based on how applicants’ names sound. Write a memo to the HR Department of 1 of the companies positioning yourself as a data scientist arguing whether or employers are biased against certain names. Justify your decision using what you’ve already done and include guidelines for the future.\n",
    "\n",
    "\n",
    "Remember, you only need to do either Option 1 **OR** Option 2 *(not both)*!"
   ]
  },
  {
   "cell_type": "markdown",
   "metadata": {},
   "source": [
    "*I believe that there was inherent bias that took place while selecting juries in the Smith trial and the juries were not the product of random selection. This is because using computer simulations with complete randomness, we see that the average number of black people that should be on a jury is between 6-10. This is reflective of the percentage of black people within this country i.e. 8%. We carried out over 10000 simulations of jury panels being selected and less than 300 of those simulations produced jury selections with less than 3 black people on the panel. To avoid this in the future, we should use computer software for jury selections to make sure that there is no inherent bias in the decision making and a fair trial takes place.*"
   ]
  },
  {
   "cell_type": "markdown",
   "metadata": {},
   "source": [
    "<hr style=\"color: #DD3403;\">"
   ]
  },
  {
   "cell_type": "markdown",
   "metadata": {},
   "source": [
    "## Submit Your Work!\n",
    "\n",
    "You're almost done!  All you need to do is to commit your lab to GitHub:\n",
    "\n",
    "1.  ⚠️ **Make sure to save your work.** ⚠️ To do this, go to **File => Save All**\n",
    "\n",
    "2.  After you have saved, exit this notebook and follow the Canvas instructions to commit this lab to your Git repository!\n",
    "\n",
    "3. Your TA will grade your submission and provide you feedback after the lab is due. :)"
   ]
  }
 ],
 "metadata": {
  "kernelspec": {
   "display_name": "Python 3.10.7 64-bit",
   "language": "python",
   "name": "python3"
  },
  "language_info": {
   "codemirror_mode": {
    "name": "ipython",
    "version": 3
   },
   "file_extension": ".py",
   "mimetype": "text/x-python",
   "name": "python",
   "nbconvert_exporter": "python",
   "pygments_lexer": "ipython3",
   "version": "3.10.7"
  },
  "orig_nbformat": 4,
  "vscode": {
   "interpreter": {
    "hash": "3270f9a6b1bfbd11d9593dde6cb9faaadbfebf84f5b12cbd8dc71308b0d09e75"
   }
  }
 },
 "nbformat": 4,
 "nbformat_minor": 2
}
